{
 "cells": [
  {
   "cell_type": "code",
   "execution_count": 6,
   "id": "0ca8996a-7496-4f77-a28f-51c2c818a597",
   "metadata": {},
   "outputs": [
    {
     "name": "stdin",
     "output_type": "stream",
     "text": [
      "Berat badan anda dalam Kg =  40\n",
      "Tinggi badan anda dalam Cm =  150\n"
     ]
    },
    {
     "name": "stdout",
     "output_type": "stream",
     "text": [
      "Index berat massa anda adalah = 17.8\n"
     ]
    }
   ],
   "source": [
    "# LATIHAN 2.1\n",
    "berat_badan = float(input(\"Berat badan anda dalam Kg = \"))\n",
    "tinggi_badan = float(input(\"Tinggi badan anda dalam Cm = \"))\n",
    "\n",
    "def massa_tubuh(tinggi_badan, berat_badan):\n",
    "    massa = berat_badan / (tinggi_badan * 0.01) **2\n",
    "    return massa\n",
    "\n",
    "massa = massa_tubuh(tinggi_badan, berat_badan)\n",
    "\n",
    "print(f\"Index berat massa anda adalah = {massa:.1f}\")"
   ]
  },
  {
   "cell_type": "code",
   "execution_count": 52,
   "id": "a59321bf-aa02-487d-8411-0a5a763910d8",
   "metadata": {},
   "outputs": [
    {
     "name": "stdout",
     "output_type": "stream",
     "text": [
      "f(x) = 2x^3 + 2x + 15/x , Masukan bilangan bulat\n"
     ]
    },
    {
     "name": "stdin",
     "output_type": "stream",
     "text": [
      "nilai x =  2\n"
     ]
    },
    {
     "name": "stdout",
     "output_type": "stream",
     "text": [
      "nilai fungsi f(x) dimana x adalah bilangan bulat 2 yaitu 27.5\n"
     ]
    }
   ],
   "source": [
    "# LATIHAN 2.2\n",
    "print(\"f(x) = 2x^3 + 2x + 15/x , Masukan bilangan bulat\")\n",
    "x = input(\"nilai x = \")\n",
    "\n",
    "def nilai(x):\n",
    "    a = 2 * x** 3\n",
    "    b = 2 * x\n",
    "    c = 15 / x\n",
    "    z = a + b + c\n",
    "    return z\n",
    "\n",
    "z = nilai(int(x))\n",
    "\n",
    "print(\"nilai fungsi f(x) dimana x adalah bilangan bulat\", x ,\"yaitu\", float(z))"
   ]
  },
  {
   "cell_type": "code",
   "execution_count": 50,
   "id": "8ea1f4ed-c48a-4022-aeeb-a47bb1099c25",
   "metadata": {},
   "outputs": [
    {
     "name": "stdin",
     "output_type": "stream",
     "text": [
      "Gaji per jam yang anda inginkan =  10000\n",
      "Jumlah jam kerja yang akan dilakukan dalam 1 minggu =  70\n"
     ]
    },
    {
     "name": "stdout",
     "output_type": "stream",
     "text": [
      "\n",
      "Pendapatan Budi selama libur musim panas sebelum melakukan pembayaran pajak adalah Rp 3500000\n",
      "Pendapatan Budi selama libur musim panas setelah melakukan pembayaran pajak adalah Rp 3010000\n",
      "Jumlah uang yang akan Budi habiskan untuk membeli pakaian dan aksesoris adalah Rp 301000\n",
      "Jumlah uang yang akan Budi habiskan untuk membeli alat tulis adalah Rp 27090\n",
      "Jumlah uang yang akan Budi sedekahkan adalah Rp 670477\n",
      "Jumlah uang yang akan diterima anak yatim Rp 201143\n",
      "Jumlah uang yang akan diterima kaum dhuafa Rp 1810289\n",
      "\n",
      "sisa uang = Rp 0\n"
     ]
    }
   ],
   "source": [
    "gaji_per_jam = input(\"Gaji per jam yang anda inginkan = \")\n",
    "total_jam = input(\"Jumlah jam kerja yang akan dilakukan dalam 1 minggu = \")\n",
    "\n",
    "def budi(gaji_per_jam, total_jam):\n",
    "    pendapatan_budi = int(gaji_per_jam) * (int(total_jam) * 5)\n",
    "    pendapatan_budi2 = pendapatan_budi - (pendapatan_budi * 0.14)\n",
    "    aksesoris = pendapatan_budi2 * 0.10\n",
    "    alat_tulis = (pendapatan_budi2 - aksesoris) * 0.01\n",
    "    sedekah = (pendapatan_budi2 - aksesoris - alat_tulis) * 0.25\n",
    "    anak_yatim = (sedekah / 1000) * 0.30 * 1000\n",
    "    kaum_dhuafa = pendapatan_budi2 - (aksesoris + alat_tulis + sedekah + anak_yatim)\n",
    "    total = pendapatan_budi2 - (aksesoris + alat_tulis + sedekah + anak_yatim + kaum_dhuafa)\n",
    "    return pendapatan_budi, pendapatan_budi2, aksesoris, alat_tulis, sedekah, anak_yatim, kaum_dhuafa, total\n",
    "\n",
    "pendapatan1, pendapatan2, aksesoris, alat_tulis, sedekah, anak_yatim, kaum_dhuafa, total = budi(gaji_per_jam, total_jam)\n",
    "\n",
    "print()\n",
    "print(\"Pendapatan Budi selama libur musim panas sebelum melakukan pembayaran pajak adalah Rp\", int(pendapatan1))\n",
    "print(\"Pendapatan Budi selama libur musim panas setelah melakukan pembayaran pajak adalah Rp\", int(pendapatan2))\n",
    "print(\"Jumlah uang yang akan Budi habiskan untuk membeli pakaian dan aksesoris adalah Rp\", int(aksesoris))\n",
    "print(\"Jumlah uang yang akan Budi habiskan untuk membeli alat tulis adalah Rp\", int(alat_tulis))\n",
    "print(\"Jumlah uang yang akan Budi sedekahkan adalah Rp\", int(sedekah))\n",
    "print(\"Jumlah uang yang akan diterima anak yatim Rp\", int(anak_yatim))\n",
    "print(\"Jumlah uang yang akan diterima kaum dhuafa Rp\", int(kaum_dhuafa))\n",
    "print()\n",
    "print(\"sisa uang = Rp\", int(total))"
   ]
  },
  {
   "cell_type": "code",
   "execution_count": null,
   "id": "528eb294-8609-4f5c-abb5-5dbf64e8502b",
   "metadata": {},
   "outputs": [],
   "source": []
  }
 ],
 "metadata": {
  "kernelspec": {
   "display_name": "Python 3 (ipykernel)",
   "language": "python",
   "name": "python3"
  },
  "language_info": {
   "codemirror_mode": {
    "name": "ipython",
    "version": 3
   },
   "file_extension": ".py",
   "mimetype": "text/x-python",
   "name": "python",
   "nbconvert_exporter": "python",
   "pygments_lexer": "ipython3",
   "version": "3.11.3"
  }
 },
 "nbformat": 4,
 "nbformat_minor": 5
}
